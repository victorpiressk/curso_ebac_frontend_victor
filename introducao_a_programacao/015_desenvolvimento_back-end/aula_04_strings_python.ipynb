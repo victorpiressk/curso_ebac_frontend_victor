{
  "nbformat": 4,
  "nbformat_minor": 0,
  "metadata": {
    "colab": {
      "provenance": []
    },
    "kernelspec": {
      "name": "python3",
      "display_name": "Python 3"
    },
    "language_info": {
      "name": "python"
    }
  },
  "cells": [
    {
      "cell_type": "markdown",
      "source": [
        "## **Definição**\n",
        "\n",
        "Armazenagem **textos**:\n",
        "\n",
        "*   c, EBAC, Victor Pires, 30 anos (texto)\n",
        "\n",
        "São do tipo str:"
      ],
      "metadata": {
        "id": "oW0f1ick6FXk"
      }
    },
    {
      "cell_type": "code",
      "execution_count": 1,
      "metadata": {
        "colab": {
          "base_uri": "https://localhost:8080/"
        },
        "id": "n9MAi4CT5BZX",
        "outputId": "97e6980a-a4db-439e-db35-d0506bd704d9"
      },
      "outputs": [
        {
          "output_type": "stream",
          "name": "stdout",
          "text": [
            "Aula 04, Módulo 01, Strings\n",
            "<class 'str'>\n"
          ]
        }
      ],
      "source": [
        "nome_aula = \"Aula 04, Módulo 01, Strings\"\n",
        "\n",
        "print(nome_aula)\n",
        "print(type(nome_aula))"
      ]
    },
    {
      "cell_type": "code",
      "source": [
        "string_vazia = \"\"\n",
        "\n",
        "print(string_vazia)\n",
        "print(type(string_vazia))"
      ],
      "metadata": {
        "colab": {
          "base_uri": "https://localhost:8080/"
        },
        "id": "SRVafQUV60Ot",
        "outputId": "fba7b64e-e159-4286-fea9-f5c9f591f683"
      },
      "execution_count": 2,
      "outputs": [
        {
          "output_type": "stream",
          "name": "stdout",
          "text": [
            "\n",
            "<class 'str'>\n"
          ]
        }
      ]
    },
    {
      "cell_type": "markdown",
      "source": [
        "## **Operaçõoes**\n",
        "\n",
        "Asoperações de variáveis do tipo string são:\n",
        "* +(concatenação).\n",
        "\n",
        "**Exemplo**: Nome completo."
      ],
      "metadata": {
        "id": "MTg0_vQ27BAF"
      }
    },
    {
      "cell_type": "code",
      "source": [
        "nome = \"Victor José\"\n",
        "sobrenome = \"Pires\"\n",
        "\n",
        "apresentacao = 'Olá, meu nome é ' + nome + ' ' + sobrenome + '.'\n",
        "print(apresentacao)"
      ],
      "metadata": {
        "colab": {
          "base_uri": "https://localhost:8080/"
        },
        "id": "dbbrzq8T7k6O",
        "outputId": "27b3c822-39f3-4556-bd57-55c3a9a4bcb4"
      },
      "execution_count": 6,
      "outputs": [
        {
          "output_type": "stream",
          "name": "stdout",
          "text": [
            "Olá, meu nome é Victor José Pires.\n"
          ]
        }
      ]
    },
    {
      "cell_type": "markdown",
      "source": [
        "Uma outra forma de concatenar strings é utilizar operações de formatação:\n",
        "\n",
        "f (formatação)\n",
        "\n",
        "exemplo: f'texto {variavel}'"
      ],
      "metadata": {
        "id": "M1bt6RAI7qG1"
      }
    },
    {
      "cell_type": "code",
      "source": [
        "nome = \"Victor José\"\n",
        "sobrenome = \"Pires\"\n",
        "\n",
        "apresentacao = f'Olá, meu nome é {nome} {sobrenome}'\n",
        "print(apresentacao)"
      ],
      "metadata": {
        "colab": {
          "base_uri": "https://localhost:8080/"
        },
        "id": "71HBSpyZ7qi9",
        "outputId": "aefdceb3-6bdb-4924-9a0f-3b40c2f5dc44"
      },
      "execution_count": 7,
      "outputs": [
        {
          "output_type": "stream",
          "name": "stdout",
          "text": [
            "Olá, meu nome é Victor José Pires\n"
          ]
        }
      ]
    },
    {
      "cell_type": "markdown",
      "source": [
        "Outra operação muito utilizada é a de fatiamento (slicing):\n",
        "\n",
        "**Exemplo**: Informações de email."
      ],
      "metadata": {
        "id": "wJuDELT97rhr"
      }
    },
    {
      "cell_type": "code",
      "source": [
        "email = 'victorpiressk@gmail.com'"
      ],
      "metadata": {
        "id": "waHfkDO87tQd"
      },
      "execution_count": null,
      "outputs": []
    },
    {
      "cell_type": "markdown",
      "source": [
        "fatiamento fixo:\n",
        "\n",
        "```\n",
        "v i c t o r p i r e s  s  k  @  g  m  a  i  l  .  c  o  m\n",
        "0 1 2 3 4 5 6 7 8 9 10 11 12 13 14 15 16 17 18 19 20 21 22\n",
        "```"
      ],
      "metadata": {
        "id": "CkYNpYz8-RCc"
      }
    },
    {
      "cell_type": "code",
      "source": [
        "email = 'victorpiressk@gmail.com'\n",
        "\n",
        "print('0: ' + email[0])\n",
        "print('13: ' + email[13])"
      ],
      "metadata": {
        "colab": {
          "base_uri": "https://localhost:8080/"
        },
        "id": "4Wrerag5-Qrf",
        "outputId": "4c4c92ef-d6d8-4410-cf34-dd486f1ea28e"
      },
      "execution_count": 9,
      "outputs": [
        {
          "output_type": "stream",
          "name": "stdout",
          "text": [
            "0: v\n",
            "13: @\n"
          ]
        }
      ]
    },
    {
      "cell_type": "markdown",
      "source": [
        "É possível realizar o fatiamento de trás para frente utilizando números negativos."
      ],
      "metadata": {
        "id": "Ccu83EtyBDhq"
      }
    },
    {
      "cell_type": "code",
      "source": [
        "email = 'victorpiressk@gmail.com'\n",
        "\n",
        "print('-1: ' + email[-1])\n",
        "print('-2: ' + email[-2])\n",
        "\n",
        "print('-10: ' + email[-10])\n",
        "print('-23: ' + email[-23])"
      ],
      "metadata": {
        "colab": {
          "base_uri": "https://localhost:8080/"
        },
        "outputId": "dea59195-6c0c-4dad-fdf1-aeaefb04c975",
        "id": "kmtvuGz2A1-f"
      },
      "execution_count": 13,
      "outputs": [
        {
          "output_type": "stream",
          "name": "stdout",
          "text": [
            "-1: m\n",
            "-2: o\n",
            "-10: @\n",
            "-23: v\n"
          ]
        }
      ]
    },
    {
      "cell_type": "markdown",
      "source": [
        "Fatuamento por intervalo:\n",
        "```\n",
        "v i c t o r p i r e s  s  k  @  g  m  a  i  l  .  c  o  m\n",
        "0 1 2 3 4 5 6 7 8 9 10 11 12 13 14 15 16 17 18 19 20 21 22\n",
        "```\n",
        "\n",
        "Exemplo: varivael[i : f]\n",
        "\n",
        "i = indice inicial\n",
        "\n",
        "f = indice final\n",
        "\n",
        "Obs.: Sempre deve contar o indice final +1 para não dar erro."
      ],
      "metadata": {
        "id": "fmqDs9WIBv0x"
      }
    },
    {
      "cell_type": "code",
      "source": [
        "email = 'victorpiressk@gmail.com'\n",
        "\n",
        "email_usuario = email[0:13]\n",
        "print(email_usuario)\n",
        "\n",
        "email_provedor = email[14:23]\n",
        "print(email_provedor)"
      ],
      "metadata": {
        "colab": {
          "base_uri": "https://localhost:8080/"
        },
        "id": "3pdwQCVIB3T4",
        "outputId": "6ca65be6-a238-4598-b2f8-ec4acd984465"
      },
      "execution_count": 14,
      "outputs": [
        {
          "output_type": "stream",
          "name": "stdout",
          "text": [
            "victorpiressk\n",
            "gmail.com\n"
          ]
        }
      ]
    },
    {
      "cell_type": "markdown",
      "source": [
        "## **Métodos**\n",
        "\n",
        "\n",
        "São métodos nativos do Python que nos ajudam a trabalhar no dia a dia com strings:\n",
        "\n",
        "Obs.: Metodos são funções, porém, nesse caso são funções exclusivas para strings."
      ],
      "metadata": {
        "id": "DGzrF1kCDxes"
      }
    },
    {
      "cell_type": "code",
      "source": [
        "endereco = 'Avenida Paulista, 1811, São Paulo, São Paulo, Brasil'"
      ],
      "metadata": {
        "id": "N-hnQu_PD9XM"
      },
      "execution_count": 16,
      "outputs": []
    },
    {
      "cell_type": "code",
      "source": [
        "# tornar maiusculo: string.upper()\n",
        "print(endereco.upper())"
      ],
      "metadata": {
        "colab": {
          "base_uri": "https://localhost:8080/"
        },
        "id": "4exTX2zbGV4b",
        "outputId": "a3a242ae-1d69-4879-d44a-40b2f865c192"
      },
      "execution_count": 17,
      "outputs": [
        {
          "output_type": "stream",
          "name": "stdout",
          "text": [
            "AVENIDA PAULISTA, 1811, SÃO PAULO, SÃO PAULO, BRASIL\n"
          ]
        }
      ]
    },
    {
      "cell_type": "code",
      "source": [
        "# encontrar posição: string.find('substring')\n",
        "print(endereco.find('Brasil'))"
      ],
      "metadata": {
        "colab": {
          "base_uri": "https://localhost:8080/"
        },
        "id": "mSs8HCPiGXqr",
        "outputId": "10ca6096-059c-419b-84d2-7fd9b8c9a0a8"
      },
      "execution_count": 18,
      "outputs": [
        {
          "output_type": "stream",
          "name": "stdout",
          "text": [
            "46\n"
          ]
        }
      ]
    },
    {
      "cell_type": "code",
      "source": [
        "# substituição de string: string.replace(antigo, novo)\n",
        "print(endereco.replace('Avenida', 'Av'))"
      ],
      "metadata": {
        "colab": {
          "base_uri": "https://localhost:8080/"
        },
        "id": "I8c0VO0fGsQw",
        "outputId": "da6589fe-6956-43b5-851a-b4566e2cc25b"
      },
      "execution_count": 19,
      "outputs": [
        {
          "output_type": "stream",
          "name": "stdout",
          "text": [
            "Av Paulista, 1811, São Paulo, São Paulo, Brasil\n"
          ]
        }
      ]
    },
    {
      "cell_type": "markdown",
      "source": [
        "## **Conversão**\n",
        "\n",
        "Podemos converter strings em tipos numéricos e vice-versa."
      ],
      "metadata": {
        "id": "r9qaqZsxHCRQ"
      }
    },
    {
      "cell_type": "code",
      "source": [
        "idade = 30\n",
        "print(idade)\n",
        "print(type(idade))\n",
        "\n",
        "idade = str(idade)\n",
        "print(idade)\n",
        "print(type(idade))"
      ],
      "metadata": {
        "colab": {
          "base_uri": "https://localhost:8080/"
        },
        "id": "DPtxHwJuH5rT",
        "outputId": "3412980f-067c-4005-c9f1-1907d8dfbfd7"
      },
      "execution_count": 20,
      "outputs": [
        {
          "output_type": "stream",
          "name": "stdout",
          "text": [
            "30\n",
            "<class 'int'>\n",
            "30\n",
            "<class 'str'>\n"
          ]
        }
      ]
    },
    {
      "cell_type": "code",
      "source": [
        "faturamento = 'R$ 35 mi'\n",
        "print(faturamento)\n",
        "print(type(faturamento))\n",
        "\n",
        "faturamento = int(faturamento[3:5])\n",
        "print(faturamento)\n",
        "print(type(faturamento))"
      ],
      "metadata": {
        "colab": {
          "base_uri": "https://localhost:8080/"
        },
        "id": "ju-gxLrjIP9-",
        "outputId": "b9f5e8fa-3be4-4f98-c7b0-a3a4f9a7bed0"
      },
      "execution_count": 22,
      "outputs": [
        {
          "output_type": "stream",
          "name": "stdout",
          "text": [
            "R$ 35 mi\n",
            "<class 'str'>\n",
            "35\n",
            "<class 'int'>\n"
          ]
        }
      ]
    },
    {
      "cell_type": "markdown",
      "source": [
        "## **Atividade**\n",
        "\n",
        "A empresa que você trabalha adquiriu um startup de logística. Você precisa identificar todos os endereços que são comuns em ambas. Na sua empresa , você armazena a latitude e longitude dos endereços em duas variáveis *lat* e *lon*, já a startup adquirida é em uma única variável *latlon*.\n",
        "\n",
        "Como podemos normalizar a forma com que as latitudes e longitudes são armazenadas para que possam ser comparadas?"
      ],
      "metadata": {
        "id": "EEDPNnwJIt_P"
      }
    },
    {
      "cell_type": "code",
      "source": [
        "# Sua empresa\n",
        "lat = '-22.005320'\n",
        "lon = '-47.891040'\n",
        "\n",
        "# Startup adquirida\n",
        "latlon = '-22.005320;-47.891040'"
      ],
      "metadata": {
        "id": "J8F7C8pqKMxg"
      },
      "execution_count": 26,
      "outputs": []
    },
    {
      "cell_type": "code",
      "source": [
        "# Encontrando a posição do caracter ; de divisão das strings de latitude e logitude da variavél da startup:\n",
        "posicao_char_divisao = latlon.find(';')\n",
        "print(posicao_char_divisao)"
      ],
      "metadata": {
        "colab": {
          "base_uri": "https://localhost:8080/"
        },
        "id": "Ws-1t4WKMMBa",
        "outputId": "24aa0b86-a640-4522-c713-3b0565b560d2"
      },
      "execution_count": 25,
      "outputs": [
        {
          "output_type": "stream",
          "name": "stdout",
          "text": [
            "10\n"
          ]
        }
      ]
    },
    {
      "cell_type": "code",
      "source": [
        "# Extraindo a latitude:\n",
        "lat_startup = latlon[0:posicao_char_divisao]\n",
        "print(lat_startup)\n"
      ],
      "metadata": {
        "colab": {
          "base_uri": "https://localhost:8080/"
        },
        "id": "qID5FZIqMPhn",
        "outputId": "0044b72b-20e6-4d2c-cc1c-2f963d4f87ad"
      },
      "execution_count": 27,
      "outputs": [
        {
          "output_type": "stream",
          "name": "stdout",
          "text": [
            "-22.005320\n"
          ]
        }
      ]
    },
    {
      "cell_type": "code",
      "source": [
        "# Extraindo a longitude:\n",
        "lon_startup = latlon[posicao_char_divisao+1:len(latlon)]\n",
        "print(lon_startup)"
      ],
      "metadata": {
        "colab": {
          "base_uri": "https://localhost:8080/"
        },
        "id": "QPoLN3wwMnbi",
        "outputId": "7bc42f39-b86c-49c1-f403-96d5bfc9b59b"
      },
      "execution_count": 28,
      "outputs": [
        {
          "output_type": "stream",
          "name": "stdout",
          "text": [
            "-47.891040\n"
          ]
        }
      ]
    },
    {
      "cell_type": "code",
      "source": [
        "# Comparando as variaveis:\n",
        "\n",
        "if (lat == lat_startup) : print(f'Latitude {lat} em comum')\n",
        "else : print('Nenhuma latitude em comum')\n",
        "\n",
        "if (lon == lon_startup) : print(f'Longitude {lon} em comum')\n",
        "else : print('Nenhuma longitude em comum')"
      ],
      "metadata": {
        "colab": {
          "base_uri": "https://localhost:8080/"
        },
        "id": "nlH_J2dGM_eg",
        "outputId": "21869b45-93b8-4925-ec69-186c40e03e50"
      },
      "execution_count": 31,
      "outputs": [
        {
          "output_type": "stream",
          "name": "stdout",
          "text": [
            "Latitude -22.005320 em comum\n",
            "Longitude -47.891040 em comum\n"
          ]
        }
      ]
    }
  ]
}