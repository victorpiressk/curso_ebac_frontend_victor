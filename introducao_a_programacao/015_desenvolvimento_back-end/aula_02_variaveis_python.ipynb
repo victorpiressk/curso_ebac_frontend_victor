{
  "nbformat": 4,
  "nbformat_minor": 0,
  "metadata": {
    "colab": {
      "provenance": []
    },
    "kernelspec": {
      "name": "python3",
      "display_name": "Python 3"
    },
    "language_info": {
      "name": "python"
    }
  },
  "cells": [
    {
      "cell_type": "markdown",
      "source": [
        "**Função print:**"
      ],
      "metadata": {
        "id": "ZWNpWI8yzRXL"
      }
    },
    {
      "cell_type": "code",
      "source": [
        "print(\"Olá mundo!\")"
      ],
      "metadata": {
        "colab": {
          "base_uri": "https://localhost:8080/"
        },
        "id": "UdeGGAM-xT3b",
        "outputId": "c2a8720d-084b-4f97-ea72-dc11208ea192"
      },
      "execution_count": 2,
      "outputs": [
        {
          "output_type": "stream",
          "name": "stdout",
          "text": [
            "Olá mundo!\n"
          ]
        }
      ]
    },
    {
      "cell_type": "markdown",
      "source": [
        "**Variaveis:**"
      ],
      "metadata": {
        "id": "yGcIsTDTzWKf"
      }
    },
    {
      "cell_type": "code",
      "source": [
        "idade = 30\n",
        "print(idade)\n",
        "\n",
        "idade = 28\n",
        "print(idade)\n",
        "\n",
        "nome = \"victor\"\n",
        "print(nome)"
      ],
      "metadata": {
        "colab": {
          "base_uri": "https://localhost:8080/"
        },
        "id": "4oylnNkXzaLf",
        "outputId": "134439fb-7147-45b4-cdf3-149198314b46"
      },
      "execution_count": 3,
      "outputs": [
        {
          "output_type": "stream",
          "name": "stdout",
          "text": [
            "30\n",
            "28\n",
            "victor\n"
          ]
        }
      ]
    },
    {
      "cell_type": "markdown",
      "source": [
        "**Tipos de variaveis:**\n",
        "\n",
        "  **Tipos nativos:**"
      ],
      "metadata": {
        "id": "lTeXY4PhzvRA"
      }
    },
    {
      "cell_type": "markdown",
      "source": [
        "**Tipos numéricos:** Inteiros (int) e decimais (flooat):"
      ],
      "metadata": {
        "id": "tDdL_zvA2o3g"
      }
    },
    {
      "cell_type": "code",
      "source": [
        "idade = 30\n",
        "tipo_idade = type(idade)\n",
        "\n",
        "print(idade)\n",
        "print(tipo_idade)\n",
        "print(type(idade))\n",
        "\n",
        "juros = 0.05\n",
        "tipo_juros = type(juros)\n",
        "\n",
        "print(juros)\n",
        "print(tipo_juros)\n",
        "print(type(juros))"
      ],
      "metadata": {
        "colab": {
          "base_uri": "https://localhost:8080/"
        },
        "id": "_5q5hFa3zy3a",
        "outputId": "df3ce851-60d2-469a-95df-3789c907f286"
      },
      "execution_count": 10,
      "outputs": [
        {
          "output_type": "stream",
          "name": "stdout",
          "text": [
            "30\n",
            "<class 'int'>\n",
            "<class 'int'>\n",
            "0.05\n",
            "<class 'float'>\n",
            "<class 'float'>\n"
          ]
        }
      ]
    },
    {
      "cell_type": "markdown",
      "source": [
        "**Tipos de texto:** strings (str):"
      ],
      "metadata": {
        "id": "8BJ0Vnyr2-OQ"
      }
    },
    {
      "cell_type": "code",
      "source": [
        "nome = \"victor\"\n",
        "tipo_nome = type(nome)\n",
        "\n",
        "print(nome)\n",
        "print(tipo_nome)\n",
        "print(type(nome))\n",
        "\n",
        "pais = \"Brasil\"\n",
        "tipo_pais = type(pais)\n",
        "\n",
        "print(pais)\n",
        "print(tipo_pais)\n",
        "print(type(pais))"
      ],
      "metadata": {
        "colab": {
          "base_uri": "https://localhost:8080/"
        },
        "id": "-9aC_xcK2_Az",
        "outputId": "af31859b-8af1-4853-ed05-ded355fb5e6c"
      },
      "execution_count": 12,
      "outputs": [
        {
          "output_type": "stream",
          "name": "stdout",
          "text": [
            "victor\n",
            "<class 'str'>\n",
            "<class 'str'>\n",
            "Brasil\n",
            "<class 'str'>\n",
            "<class 'str'>\n"
          ]
        }
      ]
    },
    {
      "cell_type": "markdown",
      "source": [
        "**Tipos lógicos:** booleanos (bool):"
      ],
      "metadata": {
        "id": "OPQNke3-2_sK"
      }
    },
    {
      "cell_type": "code",
      "source": [
        "maior_de_idade = True\n",
        "menor_de_idade = False\n",
        "\n",
        "tipo_maior_de_idade = type(maior_de_idade)\n",
        "tipo_menor_de_idade = type(menor_de_idade)\n",
        "\n",
        "print(maior_de_idade, \"e\", menor_de_idade)\n",
        "print(tipo_maior_de_idade, \"e\", tipo_menor_de_idade)\n",
        "print(type(maior_de_idade), \"e\", type(menor_de_idade))"
      ],
      "metadata": {
        "colab": {
          "base_uri": "https://localhost:8080/"
        },
        "id": "cpX-CS-g3Ag-",
        "outputId": "258368c0-00d3-4208-e944-f6ee5544de49"
      },
      "execution_count": 13,
      "outputs": [
        {
          "output_type": "stream",
          "name": "stdout",
          "text": [
            "True e False\n",
            "<class 'bool'> e <class 'bool'>\n",
            "<class 'bool'> e <class 'bool'>\n"
          ]
        }
      ]
    },
    {
      "cell_type": "markdown",
      "source": [
        "**Tipo vazio:** (NoneType):"
      ],
      "metadata": {
        "id": "KOV3xojh3CYw"
      }
    },
    {
      "cell_type": "code",
      "source": [
        "numero_telefone = None\n",
        "tipo_numero_telefone = type(numero_telefone)\n",
        "\n",
        "print(numero_telefone)\n",
        "print(tipo_numero_telefone)\n",
        "print(type(numero_telefone))"
      ],
      "metadata": {
        "colab": {
          "base_uri": "https://localhost:8080/"
        },
        "id": "3GJApK-n3C1d",
        "outputId": "5c8cd165-a374-4ed8-f50f-75a69ae6a501"
      },
      "execution_count": 14,
      "outputs": [
        {
          "output_type": "stream",
          "name": "stdout",
          "text": [
            "None\n",
            "<class 'NoneType'>\n",
            "<class 'NoneType'>\n"
          ]
        }
      ]
    }
  ]
}