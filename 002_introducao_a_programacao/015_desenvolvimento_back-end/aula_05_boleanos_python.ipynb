{
  "nbformat": 4,
  "nbformat_minor": 0,
  "metadata": {
    "colab": {
      "provenance": []
    },
    "kernelspec": {
      "name": "python3",
      "display_name": "Python 3"
    },
    "language_info": {
      "name": "python"
    }
  },
  "cells": [
    {
      "cell_type": "markdown",
      "source": [
        "## **Definição**"
      ],
      "metadata": {
        "id": "qaY1HgHhVqLe"
      }
    },
    {
      "cell_type": "markdown",
      "source": [
        "Armazenagem **valores lógicos**:\n",
        "\n",
        "*   True (Verdadeiro)\n",
        "*   False (Falso)\n",
        "\n"
      ],
      "metadata": {
        "id": "xfAMqvXNW320"
      }
    },
    {
      "cell_type": "code",
      "source": [
        "verdadeiro = True\n",
        "print(verdadeiro)"
      ],
      "metadata": {
        "colab": {
          "base_uri": "https://localhost:8080/"
        },
        "id": "YaZJpn4mVrlB",
        "outputId": "11d4c05f-9bf3-447e-8254-39be8a4d72d6"
      },
      "execution_count": 1,
      "outputs": [
        {
          "output_type": "stream",
          "name": "stdout",
          "text": [
            "True\n"
          ]
        }
      ]
    },
    {
      "cell_type": "code",
      "source": [
        "falso = False\n",
        "print(falso)"
      ],
      "metadata": {
        "colab": {
          "base_uri": "https://localhost:8080/"
        },
        "id": "gZfMV3mUXLC9",
        "outputId": "7555935a-f39b-4c10-aa75-bda869b2fec7"
      },
      "execution_count": 2,
      "outputs": [
        {
          "output_type": "stream",
          "name": "stdout",
          "text": [
            "False\n"
          ]
        }
      ]
    },
    {
      "cell_type": "markdown",
      "source": [
        "São do tipo boolean ou (bool)."
      ],
      "metadata": {
        "id": "vjQr-loCXQ-b"
      }
    },
    {
      "cell_type": "code",
      "source": [
        "print(type(verdadeiro))\n",
        "print(type(falso))"
      ],
      "metadata": {
        "colab": {
          "base_uri": "https://localhost:8080/"
        },
        "id": "dZoOILycXa4K",
        "outputId": "1b0737e3-cebd-4f4e-e96f-28a4d9afcfb2"
      },
      "execution_count": 4,
      "outputs": [
        {
          "output_type": "stream",
          "name": "stdout",
          "text": [
            "<class 'bool'>\n",
            "<class 'bool'>\n"
          ]
        }
      ]
    },
    {
      "cell_type": "markdown",
      "source": [
        "São resultados de comparações lógicas. Os operadores de compração lógica são:\n",
        "\n",
        "*   \\> (maior);\n",
        "*   \\< (menor);\n",
        "* == (igual);\n",
        "* \\>= (maior ou igual);\n",
        "* \\<= (menor ou igual);\n",
        "* != (diferente).\n",
        "\n"
      ],
      "metadata": {
        "id": "5qrOlvH1Xnej"
      }
    },
    {
      "cell_type": "markdown",
      "source": [
        "**Exemplo**: Caixa eletrônico"
      ],
      "metadata": {
        "id": "X1_MuQWBYkmy"
      }
    },
    {
      "cell_type": "code",
      "source": [
        "saldo_em_conta = 200\n",
        "valor_do_saque = 100\n",
        "\n",
        "pode_executar_saque = valor_do_saque <= saldo_em_conta\n",
        "print(pode_executar_saque)"
      ],
      "metadata": {
        "colab": {
          "base_uri": "https://localhost:8080/"
        },
        "id": "dDNEjthyYlKW",
        "outputId": "40e8e5f1-b7a7-4493-cb7a-552fb68855dd"
      },
      "execution_count": 5,
      "outputs": [
        {
          "output_type": "stream",
          "name": "stdout",
          "text": [
            "True\n"
          ]
        }
      ]
    },
    {
      "cell_type": "markdown",
      "source": [
        "**Exemplo**: Cartão de crédito"
      ],
      "metadata": {
        "id": "zlc6AXj4Yldk"
      }
    },
    {
      "cell_type": "code",
      "source": [
        "codigo_de_seguranca = '852'\n",
        "codigo_de_seguranca_cadastro = '010'\n",
        "\n",
        "pode_efetuar_pagamento = codigo_de_seguranca == codigo_de_seguranca_cadastro\n",
        "print(pode_efetuar_pagamento)"
      ],
      "metadata": {
        "colab": {
          "base_uri": "https://localhost:8080/"
        },
        "id": "AlN2qoYsYmby",
        "outputId": "951b412d-c5d0-44b0-f55d-22f1816ab8fe"
      },
      "execution_count": 6,
      "outputs": [
        {
          "output_type": "stream",
          "name": "stdout",
          "text": [
            "False\n"
          ]
        }
      ]
    },
    {
      "cell_type": "markdown",
      "source": [
        "## **Operações**"
      ],
      "metadata": {
        "id": "HVCDBQ3TaVgA"
      }
    },
    {
      "cell_type": "markdown",
      "source": [
        "As operações de variáveis booleanas são:\n",
        "\n",
        "\n",
        "*   | (operador ou)\n",
        "*   & (operador e)\n",
        "*   not (operador não)\n",
        "\n",
        "O conjunto de resultados de operações logicas geralmente é resumido em uma tabela chamada \"tabela verdade\":\n",
        "\n",
        "\n",
        "\n",
        "```\n",
        "      A         B         A or B         A and B          not A\n",
        "```\n",
        "\n",
        "\n",
        "---\n",
        "\n",
        "\n",
        "```\n",
        "    TRUE      TREU         TRUE           TRUE            FALSE\n",
        "    TRUE      FALSE        TRUE           FALSE           FALSE\n",
        "    FALSE     FALSE        FALSE          FALSE           TRUE\n",
        "    FALSE     TRUE         TRUE           FALSE           TRUE\n",
        "```\n",
        "\n",
        "\n",
        "\n",
        "\n"
      ],
      "metadata": {
        "id": "6NWIorZ7aYJv"
      }
    },
    {
      "cell_type": "markdown",
      "source": [
        "**Exemplo:** Tabela verdade do operador | (ou)."
      ],
      "metadata": {
        "id": "KPm-L_sRdMLT"
      }
    },
    {
      "cell_type": "code",
      "source": [
        "print(True | True)\n",
        "print(True | False)\n",
        "print(False | False)\n",
        "print(False | True)"
      ],
      "metadata": {
        "colab": {
          "base_uri": "https://localhost:8080/"
        },
        "id": "obVjsNZDdnzm",
        "outputId": "88c46ce0-4e41-4a0f-84ee-db59dd748e01"
      },
      "execution_count": 7,
      "outputs": [
        {
          "output_type": "stream",
          "name": "stdout",
          "text": [
            "True\n",
            "True\n",
            "False\n",
            "True\n"
          ]
        }
      ]
    },
    {
      "cell_type": "markdown",
      "source": [
        "**Exemplo:** Tabela verdade do operador & (e)."
      ],
      "metadata": {
        "id": "MgBU58wCeFXh"
      }
    },
    {
      "cell_type": "code",
      "source": [
        "print(True & True)\n",
        "print(True & False)\n",
        "print(False & False)\n",
        "print(False & True)"
      ],
      "metadata": {
        "colab": {
          "base_uri": "https://localhost:8080/"
        },
        "id": "pml3_kBDeLgS",
        "outputId": "7710fd6a-8c4b-4b8a-dddc-c591d34b2c81"
      },
      "execution_count": 8,
      "outputs": [
        {
          "output_type": "stream",
          "name": "stdout",
          "text": [
            "True\n",
            "False\n",
            "False\n",
            "False\n"
          ]
        }
      ]
    },
    {
      "cell_type": "markdown",
      "source": [
        "**Exemplo:** Tabela verdade do operador not (não)."
      ],
      "metadata": {
        "id": "kxllMnV_eVE_"
      }
    },
    {
      "cell_type": "code",
      "source": [
        "a = True\n",
        "b = False\n",
        "\n",
        "print(not a)\n",
        "print(not b)"
      ],
      "metadata": {
        "colab": {
          "base_uri": "https://localhost:8080/"
        },
        "id": "RWjyGsn6efxW",
        "outputId": "a15f41c0-5f6e-4816-a5ef-50d672f1f25f"
      },
      "execution_count": 10,
      "outputs": [
        {
          "output_type": "stream",
          "name": "stdout",
          "text": [
            "False\n",
            "True\n"
          ]
        }
      ]
    },
    {
      "cell_type": "markdown",
      "source": [
        "## **Conversão**"
      ],
      "metadata": {
        "id": "SuUS3UtDfPSS"
      }
    },
    {
      "cell_type": "markdown",
      "source": [
        "Podemos converter tipos numéricos e strings para booleanos através do método nativo bool:"
      ],
      "metadata": {
        "id": "jJ5Is91GfSHY"
      }
    },
    {
      "cell_type": "code",
      "source": [
        "idade = 30\n",
        "filhos = 0\n",
        "nota = 5.5\n",
        "tipo_sangue = 'O-'\n",
        "telefone_fixo = None\n",
        "numero_cel = ''\n",
        "\n",
        "print(bool(idade))\n",
        "print(bool(filhos))\n",
        "print(bool(nota))\n",
        "print(bool(tipo_sangue))\n",
        "print(bool(telefone_fixo))\n",
        "print(bool(numero_cel))"
      ],
      "metadata": {
        "colab": {
          "base_uri": "https://localhost:8080/"
        },
        "id": "U31u5Ec4fclX",
        "outputId": "68028af4-a86c-4448-f36a-e4483277aa9f"
      },
      "execution_count": 15,
      "outputs": [
        {
          "output_type": "stream",
          "name": "stdout",
          "text": [
            "True\n",
            "False\n",
            "True\n",
            "True\n",
            "False\n",
            "False\n"
          ]
        }
      ]
    },
    {
      "cell_type": "markdown",
      "source": [
        "## **Atividade**\n",
        "\n",
        "Em websites (redes sociais, e-commerce, corporativos, etc.) é comum o uso de sistemas de controle de acesso, o famoso login. Em geral nestes sistemas um usuário fornece dois dados: *usuário* e *senha*:"
      ],
      "metadata": {
        "id": "s2ds3fWfUA8l"
      }
    },
    {
      "cell_type": "code",
      "execution_count": null,
      "metadata": {
        "id": "ETWK1_byRSHT"
      },
      "outputs": [],
      "source": [
        "usuario = 'victor.pires'\n",
        "senha = 'victor123'"
      ]
    },
    {
      "cell_type": "markdown",
      "source": [
        "Do lado do servidor, o backend do website tem armazenado os dados de usuário e senha fornecidos pelo usupario no momento do cadastramento: *usuario_cadastro* e *senha_cadastro*:"
      ],
      "metadata": {
        "id": "ZuR150UNUlCZ"
      }
    },
    {
      "cell_type": "code",
      "source": [
        "usuario_cadastro = 'victor.pires'\n",
        "senha_cadastro = 'victor321'"
      ],
      "metadata": {
        "id": "gXp5b1yLVGX-"
      },
      "execution_count": null,
      "outputs": []
    },
    {
      "cell_type": "markdown",
      "source": [
        "Como comparamos se as strings (usuario, usuario_cadastro) e (senha, senhacadastro) são iguais para conceder ou bloquear o acesso do usuário?"
      ],
      "metadata": {
        "id": "G9b_LoiMVTs4"
      }
    },
    {
      "cell_type": "code",
      "source": [
        "usuario = 'victor.pires'\n",
        "senha = 'victor123'\n",
        "\n",
        "usuario_cadastro = 'victor.pires'\n",
        "senha_cadastro = 'victor321'\n",
        "\n",
        "# Compara se os dados fornecidos pelo usuário são iguais aos dados do cadastro:\n",
        "\n",
        "usuario_igual = usuario == usuario_cadastro\n",
        "senha_igual = senha == senha_cadastro\n",
        "\n",
        "print(usuario_igual)\n",
        "print(senha_igual)"
      ],
      "metadata": {
        "colab": {
          "base_uri": "https://localhost:8080/"
        },
        "id": "q6JwjpXdiJLZ",
        "outputId": "873d5de3-17b4-4d97-a650-4024243b3c0f"
      },
      "execution_count": 17,
      "outputs": [
        {
          "output_type": "stream",
          "name": "stdout",
          "text": [
            "True\n",
            "False\n"
          ]
        }
      ]
    },
    {
      "cell_type": "code",
      "source": [
        "# Concede o acesso:\n",
        "\n",
        "conceder_acesso = usuario_igual & senha_igual\n",
        "print(conceder_acesso)\n",
        "\n",
        "if (conceder_acesso == True) : print('Acesso concedido')\n",
        "if (conceder_acesso == False) : print('Acesso negado')"
      ],
      "metadata": {
        "colab": {
          "base_uri": "https://localhost:8080/"
        },
        "id": "HmdhzddHix16",
        "outputId": "f7fa3266-aaf3-4d46-a53b-16bcdb7f8729"
      },
      "execution_count": 24,
      "outputs": [
        {
          "output_type": "stream",
          "name": "stdout",
          "text": [
            "False\n",
            "Acesso negado\n"
          ]
        }
      ]
    }
  ]
}