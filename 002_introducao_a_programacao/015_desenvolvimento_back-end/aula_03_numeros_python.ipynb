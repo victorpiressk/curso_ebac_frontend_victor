{
  "cells": [
    {
      "cell_type": "markdown",
      "source": [
        "## **Definição**\n",
        "\n",
        "Armazenam **valores numéricos:**\n",
        "\n",
        "*   10, 70, 500 (inteiros);\n",
        "*   0.333, 10.5 (decimais);\n",
        "*   1 + 2j (complexos).\n",
        "\n",
        "São do tipo:\n",
        "\n",
        "*   int (inteiros);\n",
        "*   float (decimais);\n",
        "*   complex (complexos)."
      ],
      "metadata": {
        "id": "aPkboom-U2Pz"
      }
    },
    {
      "cell_type": "code",
      "source": [
        "print(type(37))\n",
        "print(type(10.1))\n",
        "print(type(1 +2j))"
      ],
      "metadata": {
        "colab": {
          "base_uri": "https://localhost:8080/"
        },
        "id": "gQQ2MEg3V0Sk",
        "outputId": "e75b7fcb-1b10-4024-f8dc-c005319af8f7"
      },
      "execution_count": 4,
      "outputs": [
        {
          "output_type": "stream",
          "name": "stdout",
          "text": [
            "<class 'int'>\n",
            "<class 'float'>\n",
            "<class 'complex'>\n"
          ]
        }
      ]
    },
    {
      "cell_type": "markdown",
      "source": [
        "## **Operações**\n",
        "\n",
        "As operações dos tipos numéricos são as quatro operações matempaticas fundamentais:\n",
        "\n",
        "\n",
        "*   \\+  (soma);\n",
        "*   \\-  (subtração);\n",
        "*   \\*  (multiplicação);\n",
        "*   /  (divisão).\n",
        "\n",
        "Além de operações mais avançadas:\n",
        "\n",
        "*   // (divisão inteira);\n",
        "*   ** (potência ou exponeciação);\n",
        "*   % (resto de divisão).\n",
        "\n",
        "**Exemplo**: Carrinho de compra de um e-commerce."
      ],
      "metadata": {
        "id": "F4ndQ74UWHdV"
      }
    },
    {
      "cell_type": "code",
      "source": [
        "qtd_itens_carrinho_compra = 0\n",
        "print(\"Quatidade de itens no carrinho é: \", qtd_itens_carrinho_compra)\n",
        "\n",
        "qtd_itens_carrinho_compra = qtd_itens_carrinho_compra + 1\n",
        "print(\"Quatidade de itens no carrinho é: \",qtd_itens_carrinho_compra)\n",
        "\n",
        "qtd_itens_carrinho_compra = qtd_itens_carrinho_compra + 1\n",
        "print(\"Quatidade de itens no carrinho é: \",qtd_itens_carrinho_compra)"
      ],
      "metadata": {
        "id": "_VekEoQ0YfEH"
      },
      "execution_count": null,
      "outputs": []
    },
    {
      "cell_type": "code",
      "source": [
        "qtd_itens_carrinho_compra = 0\n",
        "print(\"Quatidade de itens no carrinho é: \", qtd_itens_carrinho_compra)\n",
        "\n",
        "qtd_itens_carrinho_compra += 1\n",
        "print(\"Quatidade de itens no carrinho é: \",qtd_itens_carrinho_compra)\n",
        "\n",
        "qtd_itens_carrinho_compra += 1\n",
        "print(\"Quatidade de itens no carrinho é: \",qtd_itens_carrinho_compra)"
      ],
      "metadata": {
        "id": "CtFoTMLgZNsB"
      },
      "execution_count": null,
      "outputs": []
    },
    {
      "cell_type": "markdown",
      "source": [
        "**Exemplo:** Total a pagar de um produto."
      ],
      "metadata": {
        "id": "RIEskANncYlA"
      }
    },
    {
      "cell_type": "code",
      "source": [
        "preco = 47\n",
        "quantidade = 0.250\n",
        "\n",
        "total_a_pagar = quantidade * preco\n",
        "print(total_a_pagar)"
      ],
      "metadata": {
        "colab": {
          "base_uri": "https://localhost:8080/"
        },
        "id": "jW5rbxJEcfdS",
        "outputId": "d56b965d-9ccb-4b74-d556-22dda939ff73"
      },
      "execution_count": 9,
      "outputs": [
        {
          "output_type": "stream",
          "name": "stdout",
          "text": [
            "11.75\n"
          ]
        }
      ]
    },
    {
      "cell_type": "code",
      "source": [
        "a = 3\n",
        "b = 2\n",
        "\n",
        "c = a / b\n",
        "print(c)\n",
        "print(type(c))\n",
        "\n",
        "d = a // b\n",
        "print(d)\n",
        "print(type(d))"
      ],
      "metadata": {
        "colab": {
          "base_uri": "https://localhost:8080/"
        },
        "id": "CQe6O8x9h9MI",
        "outputId": "88601a3b-bcb7-48b0-8e35-d4d5035404b6"
      },
      "execution_count": 10,
      "outputs": [
        {
          "output_type": "stream",
          "name": "stdout",
          "text": [
            "1.5\n",
            "<class 'float'>\n",
            "1\n",
            "<class 'int'>\n"
          ]
        }
      ]
    },
    {
      "cell_type": "markdown",
      "source": [
        "## **Conversão**\n",
        "\n",
        "Podemos converter os tipos numéricos entre si utilizando o método nativo int, float e complex:"
      ],
      "metadata": {
        "id": "8KtW6CwMhEEH"
      }
    },
    {
      "cell_type": "code",
      "source": [
        "print(int(3.9))"
      ],
      "metadata": {
        "id": "viEGNSDZhTRr"
      },
      "execution_count": null,
      "outputs": []
    },
    {
      "cell_type": "code",
      "source": [
        "print(float(10))"
      ],
      "metadata": {
        "id": "Tgi3eYFVjSOB"
      },
      "execution_count": null,
      "outputs": []
    },
    {
      "cell_type": "code",
      "source": [
        "print(complex(1))"
      ],
      "metadata": {
        "id": "0LNoB1jsjR99"
      },
      "execution_count": null,
      "outputs": []
    },
    {
      "cell_type": "markdown",
      "source": [
        "## **Exercicio**\n",
        "\n",
        "Dia || Valor Total Vendas || Qtd Total Vendas || Ticket Médio\n",
        "\n",
        "19/01 ||        153.98 || 3 || ?\n",
        "\n",
        "20/01 || 337.01 || 7 || ?\n",
        "\n",
        "23/01 || 295.33 || 5 || ?"
      ],
      "metadata": {
        "id": "EddOieKujjEk"
      }
    },
    {
      "cell_type": "markdown",
      "source": [
        "Tiket médio dia 19"
      ],
      "metadata": {
        "id": "tmbmjX5y3p40"
      }
    },
    {
      "cell_type": "code",
      "source": [
        "vtv1 = 153.98\n",
        "qtv1 = 3\n",
        "\n",
        "tkm1 = vtv1 / qtv1\n",
        "print(tkm1)"
      ],
      "metadata": {
        "colab": {
          "base_uri": "https://localhost:8080/"
        },
        "id": "9-oTUpi312Le",
        "outputId": "a60d2bd3-c7ca-4ebe-e6c2-5eb7e565977f"
      },
      "execution_count": 18,
      "outputs": [
        {
          "output_type": "stream",
          "name": "stdout",
          "text": [
            "51.32666666666666\n"
          ]
        }
      ]
    },
    {
      "cell_type": "markdown",
      "source": [
        "Tiket médio dia 20"
      ],
      "metadata": {
        "id": "z7aqhkWp3kZS"
      }
    },
    {
      "cell_type": "code",
      "source": [
        "vtv2 = 337.01\n",
        "qtv2 = 7\n",
        "\n",
        "tkm2 = vtv2 / qtv2\n",
        "print(tkm2)"
      ],
      "metadata": {
        "colab": {
          "base_uri": "https://localhost:8080/"
        },
        "id": "fmnqPXw83lww",
        "outputId": "6afee68f-47f6-48a0-a65f-ada5407de9ba"
      },
      "execution_count": 19,
      "outputs": [
        {
          "output_type": "stream",
          "name": "stdout",
          "text": [
            "48.144285714285715\n"
          ]
        }
      ]
    },
    {
      "cell_type": "markdown",
      "source": [
        "Tiket médio dia 23"
      ],
      "metadata": {
        "id": "W-CP3QWK3mVB"
      }
    },
    {
      "cell_type": "code",
      "source": [
        "vtv3 = 295.33\n",
        "qtv3 = 5\n",
        "\n",
        "tkm3 = vtv3 / qtv3\n",
        "print(tkm3)"
      ],
      "metadata": {
        "colab": {
          "base_uri": "https://localhost:8080/"
        },
        "id": "-pzszIcO3m6y",
        "outputId": "2a10f8b1-fb60-4123-f0cc-825fba9ec401"
      },
      "execution_count": 20,
      "outputs": [
        {
          "output_type": "stream",
          "name": "stdout",
          "text": [
            "59.065999999999995\n"
          ]
        }
      ]
    },
    {
      "cell_type": "markdown",
      "source": [
        "Tiket médio do período analisado"
      ],
      "metadata": {
        "id": "Y7j79ZmF3n6D"
      }
    },
    {
      "cell_type": "code",
      "source": [
        "tkm = (tkm1 + tkm2 + tkm3) / 3\n",
        "print(tkm)"
      ],
      "metadata": {
        "colab": {
          "base_uri": "https://localhost:8080/"
        },
        "id": "r6wxI84i3oVk",
        "outputId": "de0cb8eb-2d6a-4937-a4a5-a6e03af6abc7"
      },
      "execution_count": 21,
      "outputs": [
        {
          "output_type": "stream",
          "name": "stdout",
          "text": [
            "52.8456507936508\n"
          ]
        }
      ]
    }
  ],
  "metadata": {
    "colab": {
      "provenance": []
    },
    "kernelspec": {
      "display_name": "Python 3",
      "name": "python3"
    },
    "language_info": {
      "name": "python"
    }
  },
  "nbformat": 4,
  "nbformat_minor": 0
}